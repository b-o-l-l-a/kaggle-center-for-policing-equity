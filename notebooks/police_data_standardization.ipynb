{
 "cells": [
  {
   "cell_type": "code",
   "execution_count": 1,
   "metadata": {},
   "outputs": [],
   "source": [
    "import os\n",
    "import pandas as pd"
   ]
  },
  {
   "cell_type": "code",
   "execution_count": 2,
   "metadata": {},
   "outputs": [
    {
     "name": "stderr",
     "output_type": "stream",
     "text": [
      "/Users/greg.bolla/.local/share/virtualenvs/kaggle-center-for-policing-equity-ciq3J3nK/lib/python3.6/site-packages/IPython/core/interactiveshell.py:3018: DtypeWarning: Columns (0,1,5,20,25,26,27,31,32) have mixed types. Specify dtype option on import or set low_memory=False.\n",
      "  interactivity=interactivity, compiler=compiler, result=result)\n"
     ]
    },
    {
     "name": "stdout",
     "output_type": "stream",
     "text": [
      "11-00091\n",
      "----------\n",
      "Index(['INCIDENT_UNIQUE_IDENTIFIER', 'INCIDENT_UNIQUE_IDENTIFIER.1',\n",
      "       'SUBJECT_GENDER', 'LOCATION_FULL_STREET_ADDRESS_OR_INTERSECTION',\n",
      "       'LOCATION_DISTRICT', 'LOCATION_DISTRICT.1', 'INCIDENT_DATE',\n",
      "       'INCIDENT_TIME', 'SUBJECT_DETAILS', 'SUBJECT_RACE', 'SUBJECT_DETAILS.1',\n",
      "       'SUBJECT_DETAILS.2', 'UNKNOWN_FIELD_TYPE', 'UNKNOWN_FIELD_TYPE.1',\n",
      "       'SEARCH_CONDUCTED', 'SEARCH_REASON', 'INCIDENT_REASON',\n",
      "       'INCIDENT_REASON.1', 'DISPOSITION', 'VEHICLE_MAKE', 'VEHICLE_YEAR',\n",
      "       'VEHICLE_COLOR', 'VEHICLE_MODEL', 'VEHICLE_DETAILS',\n",
      "       'VEHICLE_DETAILS.1', 'OFFICER_SUPERVISOR', 'OFFICER_ID',\n",
      "       'OFFICER_ASSIGNMENT', 'OFFICER_ASSIGNMENT.1', 'OFFICER_ETHNICITY',\n",
      "       'OFFICER_RACE', 'OFFICER_AGE', 'LOCATION_STREET_NUMBER',\n",
      "       'LOCATION_CITY'],\n",
      "      dtype='object')\n",
      "\n",
      "\n",
      "\n",
      "23-00089\n",
      "----------\n",
      "Index(['INCIDENT_UNIQUE_IDENTIFIER', 'INCIDENT_DATE', 'OFFICER_ASSIGNMENT',\n",
      "       'LOCATION_DISTRICT', 'SHIFT', 'LOCATION_DISTRICT.1', 'REASON_FOR_FORCE',\n",
      "       'TYPE_OF_FORCE_USED', 'SUBJECT_DETAILS', 'INCIDENT_REASON',\n",
      "       'SUBJECT_WAS_ARRESTED', 'CHARGE', 'SUBJECT_INJURY',\n",
      "       'SUBJECT_HOSPITALIZATION', 'SUBJECT_DETAILS.1', 'OFFICER_INJURY',\n",
      "       'OFFICER_HOSPITALIZATION', 'OFFICER_DETAILS', 'SUBJECT_RACT',\n",
      "       'SUBJECT_GENDER', 'SUBJECT_AGE', 'OFFICER_RACE', 'OFFICER_GENDER',\n",
      "       'OFFICER_AGE', 'OFFICER_YEARS_ON_FORCE', 'OFFICER_ID'],\n",
      "      dtype='object')\n",
      "\n",
      "\n",
      "\n",
      "24-00013\n",
      "----------\n",
      "Index(['LOCATION_LONGITUDE', 'LOCATION_LATITUDE', 'INCIDENT_UNIQUE_IDENTIFIER',\n",
      "       'INCIDENT_DATE', 'INCIDENT_TIME', 'SUBJECT_INJURY',\n",
      "       'TYPE_OF_FORCE_USED', 'WEAPON_OR_TOOL_USED', 'SUBJECT_RACE',\n",
      "       'SUBJECT_GENDER', 'SUBJECT_AGE', 'REASON_FOR_FORCE',\n",
      "       'LOCATION_DISTRICT'],\n",
      "      dtype='object')\n",
      "\n",
      "\n",
      "\n"
     ]
    },
    {
     "name": "stderr",
     "output_type": "stream",
     "text": [
      "/Users/greg.bolla/.local/share/virtualenvs/kaggle-center-for-policing-equity-ciq3J3nK/lib/python3.6/site-packages/IPython/core/interactiveshell.py:3018: DtypeWarning: Columns (0,7,9,10,11) have mixed types. Specify dtype option on import or set low_memory=False.\n",
      "  interactivity=interactivity, compiler=compiler, result=result)\n"
     ]
    },
    {
     "name": "stdout",
     "output_type": "stream",
     "text": [
      "24-00098\n",
      "----------\n",
      "Index(['INCIDENT_DATE_YEAR', 'INCIDENT_DATE', 'SUBJECT_RACE', 'SUBJECT_GENDER',\n",
      "       'SEARCH_CONDUCTED_PERSON', 'SEARCH_CONDUCTED_VEHICLE',\n",
      "       'SUBJECT_ISSUED_CITATION', 'SUBJECT_AGE', 'INCIDENT_REASON',\n",
      "       'LOCATION_DISTRICT', 'LOCATION_LATITUDE', 'LOCATION_LONGITUDE'],\n",
      "      dtype='object')\n",
      "\n",
      "\n",
      "\n",
      "35-00016\n",
      "----------\n",
      "Index(['INCIDENT_UNIQUE_IDENTIFIER', 'INCIDENT_DATE',\n",
      "       'LOCATION_FULL_STREET_ADDRESS_OR_INTERSECTION', 'Unnamed: 3',\n",
      "       'NUMBER_OF_OFFICERS', 'OFFICER_RACE', 'OFFICER_ETHNICITY',\n",
      "       'OFFICER_GENDER', 'OFFICER_AGE', 'OFFICER_YEARS_ON_FORCE',\n",
      "       'NUMBER_OF_SUBJECTS', 'SUBJECT_RACE', 'SUBJECT_GENDER', 'SUBJECT_AGE',\n",
      "       'SUBJECT_POSSESSED_WEAPON', 'SUBJECT_INJURY', 'SUBJECT_DEATH',\n",
      "       'OFFICER_INJURY', 'OFFICER_DEATH', 'LOCATION_LATITUDE',\n",
      "       'LOCATION_LONGITUDE'],\n",
      "      dtype='object')\n",
      "\n",
      "\n",
      "\n",
      "35-00103\n",
      "----------\n",
      "Index(['INCIDENT_UNIQUE_IDENTIFIER', 'INCIDENT_DATE', 'SUBJECT_RACE',\n",
      "       'SUBJECT_GENDER', 'SUBJECT_AGE_IN_YEARS', 'SUBJECT_INJURY_TYPE',\n",
      "       'LOCATION_LATITUDE', 'LOCATION_LONGITUDE',\n",
      "       'LOCATION_FULL_STREET_ADDRESS_OR_INTERSECTION'],\n",
      "      dtype='object')\n",
      "\n",
      "\n",
      "\n",
      "37-00027\n",
      "----------\n",
      "Index(['RIN', 'PRIMARY_KEY', 'INCIDENT_DATE', 'LOCATION_DISTRICT',\n",
      "       'INCIDENT_REASON', 'REASON_FOR_FORCE', 'SUBJECT_ID', 'SUBJECT_GENDER',\n",
      "       'SUBJECT_RACE', 'SUBJECT_ROLE', 'SUBJECT_DESCRIPTION',\n",
      "       'REASON_FOR_FORCE.1', 'TYPE_OF_FORCE_USED1', 'TYPE_OF_FORCE_USED2',\n",
      "       'TYPE_OF_FORCE_USED3', 'TYPE_OF_FORCE_USED4', 'NUMBER_EC_CYCLES',\n",
      "       'SUBJECT_INJURY_TYPE', 'OFFICER_INJURY_TYPE', 'Unnamed: 19',\n",
      "       'OFFICER_YEARS_ON_FORCE', 'Y_COORDINATE', 'Y_COORDINATE.1',\n",
      "       'LOCATION_DISTRICT.1', 'LOCATION_FULL_STREET_ADDRESS_OR_INTERSECTION',\n",
      "       'LOCATION_CITY', 'LOCATION_STATE', 'LOCATION_LATITUDE',\n",
      "       'LOCATION_LONGITUDE'],\n",
      "      dtype='object')\n",
      "\n",
      "\n",
      "\n",
      "37-00049\n",
      "----------\n",
      "Index(['INCIDENT_DATE', 'INCIDENT_TIME', 'UOF_NUMBER', 'OFFICER_ID',\n",
      "       'OFFICER_GENDER', 'OFFICER_RACE', 'OFFICER_HIRE_DATE',\n",
      "       'OFFICER_YEARS_ON_FORCE', 'OFFICER_INJURY', 'OFFICER_INJURY_TYPE',\n",
      "       'OFFICER_HOSPITALIZATION', 'SUBJECT_ID', 'SUBJECT_RACE',\n",
      "       'SUBJECT_GENDER', 'SUBJECT_INJURY', 'SUBJECT_INJURY_TYPE',\n",
      "       'SUBJECT_WAS_ARRESTED', 'SUBJECT_DESCRIPTION', 'SUBJECT_OFFENSE',\n",
      "       'REPORTING_AREA', 'BEAT', 'SECTOR', 'DIVISION', 'LOCATION_DISTRICT',\n",
      "       'STREET_NUMBER', 'STREET_NAME', 'STREET_DIRECTION', 'STREET_TYPE',\n",
      "       'LOCATION_FULL_STREET_ADDRESS_OR_INTERSECTION', 'LOCATION_CITY',\n",
      "       'LOCATION_STATE', 'LOCATION_LATITUDE', 'LOCATION_LONGITUDE',\n",
      "       'INCIDENT_REASON', 'REASON_FOR_FORCE', 'TYPE_OF_FORCE_USED1',\n",
      "       'TYPE_OF_FORCE_USED2', 'TYPE_OF_FORCE_USED3', 'TYPE_OF_FORCE_USED4',\n",
      "       'TYPE_OF_FORCE_USED5', 'TYPE_OF_FORCE_USED6', 'TYPE_OF_FORCE_USED7',\n",
      "       'TYPE_OF_FORCE_USED8', 'TYPE_OF_FORCE_USED9', 'TYPE_OF_FORCE_USED10',\n",
      "       'NUMBER_EC_CYCLES', 'FORCE_EFFECTIVE'],\n",
      "      dtype='object')\n",
      "\n",
      "\n",
      "\n",
      "WARNING: 49-00009 has more than one CSV\n",
      "49-00009\n",
      "----------\n",
      "Index(['INCIDENT_UNIQUE_IDENTIFIER', 'INCIDENT_UNIQUE)IDENTIFIER.1',\n",
      "       'TYPE_OF_FORCE_USED', 'INCIDENT_DATE', 'LOCATION_DISTRICT',\n",
      "       'LOCATION_DISTRICT.1', 'LOCATION_DISTRICT.2', 'OFFICER_ID',\n",
      "       'SUBJECT_ID', 'SUBJECT_RACE', 'SUBJECT_GENDER'],\n",
      "      dtype='object')\n",
      "\n",
      "\n",
      "\n"
     ]
    },
    {
     "name": "stderr",
     "output_type": "stream",
     "text": [
      "/Users/greg.bolla/.local/share/virtualenvs/kaggle-center-for-policing-equity-ciq3J3nK/lib/python3.6/site-packages/IPython/core/interactiveshell.py:3018: DtypeWarning: Columns (1,2,3,5,6,9,16,17) have mixed types. Specify dtype option on import or set low_memory=False.\n",
      "  interactivity=interactivity, compiler=compiler, result=result)\n"
     ]
    },
    {
     "name": "stdout",
     "output_type": "stream",
     "text": [
      "49-00033\n",
      "----------\n",
      "Index(['INCIDENT_DATE', 'INCIDENT_TIME', 'INCIDENT_UNIQUE_IDENTIFIER',\n",
      "       'LOCATION_DISTRICT', 'LOCATION_TYPE', 'UNKNOWN_FIELD_TYPE',\n",
      "       'SUBJECT_AGE', 'SUBJECT_GENDER', 'SUBJECT_RACE', 'UNKNOWN_FIELD_TYPE.1',\n",
      "       'INCIDENT_REASON', 'UNKNOWN_FIELD_TYPE.2', 'CHARGE',\n",
      "       'CHARGE_DESCRIPTION', 'LOCATION_FULL_STREET_ADDRESS_OR_INTERSECTION',\n",
      "       'CROSS_STREET', 'LOCATION_LATITUDE', 'LOCATION_LONGITUDE'],\n",
      "      dtype='object')\n",
      "\n",
      "\n",
      "\n",
      "49-00035\n",
      "----------\n",
      "Index(['CRIME_TYPE', 'INCIDENT_DATE', 'INCIDENT_UNIQUE_IDENTIFIER',\n",
      "       'INCIDENT_REASON', 'LOCATION_DISTRICT',\n",
      "       'LOCATION_FULL_STREET_ADDRESS_OR_INTERSECTION', 'LOCATION_CITY',\n",
      "       'LOCATION_STATE'],\n",
      "      dtype='object')\n",
      "\n",
      "\n",
      "\n",
      "49-00081\n",
      "----------\n",
      "Index(['INCIDENT_UNIQUE_IDENTIFIER', 'INCIDENT_REASON',\n",
      "       'INCIDENT_REASON_DESCRIPTION', 'INCIDENT_DAY', 'INCIDENT_DATE',\n",
      "       'INCIDENT_TIME', 'LOCATION_DISTRICT', 'DISPOSITION',\n",
      "       'LOCATION_FULL_STREET_ADDRESS_OR_INTERSECTION', 'LOCATION_LONGITUDE',\n",
      "       'LOCATION_LATITUDE'],\n",
      "      dtype='object')\n",
      "\n",
      "\n",
      "\n"
     ]
    },
    {
     "name": "stderr",
     "output_type": "stream",
     "text": [
      "/Users/greg.bolla/.local/share/virtualenvs/kaggle-center-for-policing-equity-ciq3J3nK/lib/python3.6/site-packages/IPython/core/interactiveshell.py:3018: DtypeWarning: Columns (0,9,10) have mixed types. Specify dtype option on import or set low_memory=False.\n",
      "  interactivity=interactivity, compiler=compiler, result=result)\n"
     ]
    }
   ],
   "source": [
    "\n",
    "data_dir = os.path.join(os.getcwd().replace(\"/notebooks\", \"/data\"), \"raw_updated\")\n",
    "\n",
    "dept_nums = []\n",
    "for path in os.listdir(data_dir):\n",
    "    \n",
    "    full_path = os.path.join(os.path.join(data_dir, path))\n",
    "    dept = os.path.isdir(os.path.join(data_dir, path))\n",
    "    if dept:\n",
    "        dept_num = path.replace(\"Dept_\", \"\")\n",
    "        dept_nums.append(dept_num)\n",
    "        csvs = [f for f in os.listdir(full_path) if f.endswith('.csv')]\n",
    "        if len(csvs) != 1:\n",
    "            print(\"WARNING: {} has more than one CSV\".format(dept_num))\n",
    "        police_csv_name = csvs[0]\n",
    "        police_csv_path = os.path.join(full_path, police_csv_name)\n",
    "        police_df = pd.read_csv(police_csv_path)\n",
    "        print(dept_num)\n",
    "        print(\"----------\")\n",
    "        print(police_df.columns)\n",
    "        print(\"\\n\\n\")\n",
    "        \n",
    "                                  \n",
    "        \n",
    "#for dept in dept_nums:\n",
    "#    dept_path = os.path.join"
   ]
  },
  {
   "cell_type": "code",
   "execution_count": 3,
   "metadata": {},
   "outputs": [
    {
     "data": {
      "text/plain": [
       "['11-00091',\n",
       " '23-00089',\n",
       " '24-00013',\n",
       " '24-00098',\n",
       " '35-00016',\n",
       " '35-00103',\n",
       " '37-00027',\n",
       " '37-00049',\n",
       " '49-00009',\n",
       " '49-00033',\n",
       " '49-00035',\n",
       " '49-00081']"
      ]
     },
     "execution_count": 3,
     "metadata": {},
     "output_type": "execute_result"
    }
   ],
   "source": [
    "dept_nums"
   ]
  },
  {
   "cell_type": "code",
   "execution_count": null,
   "metadata": {},
   "outputs": [],
   "source": []
  }
 ],
 "metadata": {
  "kernelspec": {
   "display_name": "Python 3",
   "language": "python",
   "name": "python3"
  },
  "language_info": {
   "codemirror_mode": {
    "name": "ipython",
    "version": 3
   },
   "file_extension": ".py",
   "mimetype": "text/x-python",
   "name": "python",
   "nbconvert_exporter": "python",
   "pygments_lexer": "ipython3",
   "version": "3.6.5"
  }
 },
 "nbformat": 4,
 "nbformat_minor": 2
}
