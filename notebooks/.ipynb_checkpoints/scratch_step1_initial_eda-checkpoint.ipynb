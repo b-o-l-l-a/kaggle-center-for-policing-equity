{
 "cells": [
  {
   "cell_type": "code",
   "execution_count": 1,
   "metadata": {},
   "outputs": [
    {
     "name": "stdout",
     "output_type": "stream",
     "text": [
      "['.DS_Store', 'ACS_variable_descriptions.csv', 'Dept_11-00091', 'Dept_23-00089', 'Dept_35-00103', 'Dept_37-00027', 'Dept_37-00049', 'Dept_49-00009']\n"
     ]
    }
   ],
   "source": [
    "import os\n",
    "import pandas as pd\n",
    "\n",
    "#print(os.path.dirname(os.path.realpath(__file__)))\n",
    "raw_data_dir = os.path.join(os.getcwd().replace(\"/notebooks\", \"\"), \"data\", \"raw\")\n",
    "print(os.listdir(raw_data_dir))"
   ]
  },
  {
   "cell_type": "code",
   "execution_count": 20,
   "metadata": {},
   "outputs": [
    {
     "name": "stdout",
     "output_type": "stream",
     "text": [
      "['49-00009_ACS_data', '49-00009_Shapefiles']\n"
     ]
    }
   ],
   "source": [
    "#let's just pick one deptartment to get a sense of what is included\n",
    "dept_num = '49-00009'\n",
    "dept_dir = os.path.join(raw_data_dir, \"Dept_{}\".format(dept_num))\n",
    "print(os.listdir(dept_dir))"
   ]
  },
  {
   "cell_type": "code",
   "execution_count": 21,
   "metadata": {},
   "outputs": [
    {
     "name": "stdout",
     "output_type": "stream",
     "text": [
      "---ACS directory\n",
      "['49-00009_ACS_education-attainment', '49-00009_ACS_education-attainment-over-25', '49-00009_ACS_owner-occupied-housing', '49-00009_ACS_poverty', '49-00009_ACS_race-sex-age', '_DS_Store']\n",
      "\n",
      "\n",
      "---Shapefiles directory\n",
      "['SPD_BEATS_WGS84.CPG', 'SPD_BEATS_WGS84.dbf', 'SPD_BEATS_WGS84.prj', 'SPD_BEATS_WGS84.sbn', 'SPD_BEATS_WGS84.sbx', 'SPD_BEATS_WGS84.shp', 'SPD_BEATS_WGS84.shp.xml', 'SPD_BEATS_WGS84.shx']\n",
      "\n",
      "\n"
     ]
    }
   ],
   "source": [
    "dept_acs_dir = os.path.join(dept_dir,\"{}_ACS_data\".format(dept_num))\n",
    "dept_shp_dir = os.path.join(dept_dir,\"{}_Shapefiles\".format(dept_num))\n",
    "\n",
    "print(\"---ACS directory\")\n",
    "print(os.listdir(dept_acs_dir))\n",
    "print(\"\\n\")\n",
    "print(\"---Shapefiles directory\")\n",
    "print(os.listdir(dept_shp_dir))\n",
    "print(\"\\n\")"
   ]
  },
  {
   "cell_type": "code",
   "execution_count": 22,
   "metadata": {},
   "outputs": [
    {
     "name": "stdout",
     "output_type": "stream",
     "text": [
      "['ACS_16_5YR_S1501_metadata.csv', 'ACS_16_5YR_S1501_with_ann.csv']\n"
     ]
    }
   ],
   "source": [
    "#shapefiles dir has files, but need to traverse ACS dir a little bit more\n",
    "dept_acs_ed_attainment_dir = os.path.join(dept_acs_dir, \"{}_ACS_education-attainment\".format(dept_num))\n",
    "print(os.listdir(dept_acs_ed_attainment_dir))"
   ]
  },
  {
   "cell_type": "code",
   "execution_count": 23,
   "metadata": {},
   "outputs": [
    {
     "data": {
      "text/html": [
       "<div>\n",
       "<style scoped>\n",
       "    .dataframe tbody tr th:only-of-type {\n",
       "        vertical-align: middle;\n",
       "    }\n",
       "\n",
       "    .dataframe tbody tr th {\n",
       "        vertical-align: top;\n",
       "    }\n",
       "\n",
       "    .dataframe thead th {\n",
       "        text-align: right;\n",
       "    }\n",
       "</style>\n",
       "<table border=\"1\" class=\"dataframe\">\n",
       "  <thead>\n",
       "    <tr style=\"text-align: right;\">\n",
       "      <th></th>\n",
       "      <th>GEO.id</th>\n",
       "      <th>GEO.id2</th>\n",
       "      <th>GEO.display-label</th>\n",
       "      <th>HC01_EST_VC02</th>\n",
       "      <th>HC01_MOE_VC02</th>\n",
       "      <th>HC02_EST_VC02</th>\n",
       "      <th>HC02_MOE_VC02</th>\n",
       "      <th>HC03_EST_VC02</th>\n",
       "      <th>HC03_MOE_VC02</th>\n",
       "      <th>HC04_EST_VC02</th>\n",
       "      <th>...</th>\n",
       "      <th>HC02_EST_VC85</th>\n",
       "      <th>HC02_MOE_VC85</th>\n",
       "      <th>HC03_EST_VC85</th>\n",
       "      <th>HC03_MOE_VC85</th>\n",
       "      <th>HC04_EST_VC85</th>\n",
       "      <th>HC04_MOE_VC85</th>\n",
       "      <th>HC05_EST_VC85</th>\n",
       "      <th>HC05_MOE_VC85</th>\n",
       "      <th>HC06_EST_VC85</th>\n",
       "      <th>HC06_MOE_VC85</th>\n",
       "    </tr>\n",
       "  </thead>\n",
       "  <tbody>\n",
       "    <tr>\n",
       "      <th>0</th>\n",
       "      <td>Id</td>\n",
       "      <td>Id2</td>\n",
       "      <td>Geography</td>\n",
       "      <td>Total; Estimate; Population 18 to 24 years</td>\n",
       "      <td>Total; Margin of Error; Population 18 to 24 years</td>\n",
       "      <td>Percent; Estimate; Population 18 to 24 years</td>\n",
       "      <td>Percent; Margin of Error; Population 18 to 24 ...</td>\n",
       "      <td>Males; Estimate; Population 18 to 24 years</td>\n",
       "      <td>Males; Margin of Error; Population 18 to 24 years</td>\n",
       "      <td>Percent Males; Estimate; Population 18 to 24 y...</td>\n",
       "      <td>...</td>\n",
       "      <td>Percent; Estimate; MEDIAN EARNINGS IN THE PAST...</td>\n",
       "      <td>Percent; Margin of Error; MEDIAN EARNINGS IN T...</td>\n",
       "      <td>Males; Estimate; MEDIAN EARNINGS IN THE PAST 1...</td>\n",
       "      <td>Males; Margin of Error; MEDIAN EARNINGS IN THE...</td>\n",
       "      <td>Percent Males; Estimate; MEDIAN EARNINGS IN TH...</td>\n",
       "      <td>Percent Males; Margin of Error; MEDIAN EARNING...</td>\n",
       "      <td>Females; Estimate; MEDIAN EARNINGS IN THE PAST...</td>\n",
       "      <td>Females; Margin of Error; MEDIAN EARNINGS IN T...</td>\n",
       "      <td>Percent Females; Estimate; MEDIAN EARNINGS IN ...</td>\n",
       "      <td>Percent Females; Margin of Error; MEDIAN EARNI...</td>\n",
       "    </tr>\n",
       "    <tr>\n",
       "      <th>1</th>\n",
       "      <td>1400000US53033000100</td>\n",
       "      <td>53033000100</td>\n",
       "      <td>Census Tract 1, King County, Washington</td>\n",
       "      <td>650</td>\n",
       "      <td>184</td>\n",
       "      <td>(X)</td>\n",
       "      <td>(X)</td>\n",
       "      <td>243</td>\n",
       "      <td>112</td>\n",
       "      <td>(X)</td>\n",
       "      <td>...</td>\n",
       "      <td>(X)</td>\n",
       "      <td>(X)</td>\n",
       "      <td>56316</td>\n",
       "      <td>27883</td>\n",
       "      <td>(X)</td>\n",
       "      <td>(X)</td>\n",
       "      <td>43929</td>\n",
       "      <td>21865</td>\n",
       "      <td>(X)</td>\n",
       "      <td>(X)</td>\n",
       "    </tr>\n",
       "    <tr>\n",
       "      <th>2</th>\n",
       "      <td>1400000US53033000200</td>\n",
       "      <td>53033000200</td>\n",
       "      <td>Census Tract 2, King County, Washington</td>\n",
       "      <td>758</td>\n",
       "      <td>302</td>\n",
       "      <td>(X)</td>\n",
       "      <td>(X)</td>\n",
       "      <td>392</td>\n",
       "      <td>234</td>\n",
       "      <td>(X)</td>\n",
       "      <td>...</td>\n",
       "      <td>(X)</td>\n",
       "      <td>(X)</td>\n",
       "      <td>70583</td>\n",
       "      <td>31936</td>\n",
       "      <td>(X)</td>\n",
       "      <td>(X)</td>\n",
       "      <td>40313</td>\n",
       "      <td>23433</td>\n",
       "      <td>(X)</td>\n",
       "      <td>(X)</td>\n",
       "    </tr>\n",
       "    <tr>\n",
       "      <th>3</th>\n",
       "      <td>1400000US53033000300</td>\n",
       "      <td>53033000300</td>\n",
       "      <td>Census Tract 3, King County, Washington</td>\n",
       "      <td>117</td>\n",
       "      <td>70</td>\n",
       "      <td>(X)</td>\n",
       "      <td>(X)</td>\n",
       "      <td>71</td>\n",
       "      <td>45</td>\n",
       "      <td>(X)</td>\n",
       "      <td>...</td>\n",
       "      <td>(X)</td>\n",
       "      <td>(X)</td>\n",
       "      <td>-</td>\n",
       "      <td>**</td>\n",
       "      <td>(X)</td>\n",
       "      <td>(X)</td>\n",
       "      <td>54025</td>\n",
       "      <td>3330</td>\n",
       "      <td>(X)</td>\n",
       "      <td>(X)</td>\n",
       "    </tr>\n",
       "    <tr>\n",
       "      <th>4</th>\n",
       "      <td>1400000US53033000401</td>\n",
       "      <td>53033000401</td>\n",
       "      <td>Census Tract 4.01, King County, Washington</td>\n",
       "      <td>683</td>\n",
       "      <td>265</td>\n",
       "      <td>(X)</td>\n",
       "      <td>(X)</td>\n",
       "      <td>256</td>\n",
       "      <td>161</td>\n",
       "      <td>(X)</td>\n",
       "      <td>...</td>\n",
       "      <td>(X)</td>\n",
       "      <td>(X)</td>\n",
       "      <td>43984</td>\n",
       "      <td>6628</td>\n",
       "      <td>(X)</td>\n",
       "      <td>(X)</td>\n",
       "      <td>33750</td>\n",
       "      <td>24472</td>\n",
       "      <td>(X)</td>\n",
       "      <td>(X)</td>\n",
       "    </tr>\n",
       "  </tbody>\n",
       "</table>\n",
       "<p>5 rows × 771 columns</p>\n",
       "</div>"
      ],
      "text/plain": [
       "                 GEO.id      GEO.id2  \\\n",
       "0                    Id          Id2   \n",
       "1  1400000US53033000100  53033000100   \n",
       "2  1400000US53033000200  53033000200   \n",
       "3  1400000US53033000300  53033000300   \n",
       "4  1400000US53033000401  53033000401   \n",
       "\n",
       "                            GEO.display-label  \\\n",
       "0                                   Geography   \n",
       "1     Census Tract 1, King County, Washington   \n",
       "2     Census Tract 2, King County, Washington   \n",
       "3     Census Tract 3, King County, Washington   \n",
       "4  Census Tract 4.01, King County, Washington   \n",
       "\n",
       "                                HC01_EST_VC02  \\\n",
       "0  Total; Estimate; Population 18 to 24 years   \n",
       "1                                         650   \n",
       "2                                         758   \n",
       "3                                         117   \n",
       "4                                         683   \n",
       "\n",
       "                                       HC01_MOE_VC02  \\\n",
       "0  Total; Margin of Error; Population 18 to 24 years   \n",
       "1                                                184   \n",
       "2                                                302   \n",
       "3                                                 70   \n",
       "4                                                265   \n",
       "\n",
       "                                  HC02_EST_VC02  \\\n",
       "0  Percent; Estimate; Population 18 to 24 years   \n",
       "1                                           (X)   \n",
       "2                                           (X)   \n",
       "3                                           (X)   \n",
       "4                                           (X)   \n",
       "\n",
       "                                       HC02_MOE_VC02  \\\n",
       "0  Percent; Margin of Error; Population 18 to 24 ...   \n",
       "1                                                (X)   \n",
       "2                                                (X)   \n",
       "3                                                (X)   \n",
       "4                                                (X)   \n",
       "\n",
       "                                HC03_EST_VC02  \\\n",
       "0  Males; Estimate; Population 18 to 24 years   \n",
       "1                                         243   \n",
       "2                                         392   \n",
       "3                                          71   \n",
       "4                                         256   \n",
       "\n",
       "                                       HC03_MOE_VC02  \\\n",
       "0  Males; Margin of Error; Population 18 to 24 years   \n",
       "1                                                112   \n",
       "2                                                234   \n",
       "3                                                 45   \n",
       "4                                                161   \n",
       "\n",
       "                                       HC04_EST_VC02  \\\n",
       "0  Percent Males; Estimate; Population 18 to 24 y...   \n",
       "1                                                (X)   \n",
       "2                                                (X)   \n",
       "3                                                (X)   \n",
       "4                                                (X)   \n",
       "\n",
       "                         ...                          \\\n",
       "0                        ...                           \n",
       "1                        ...                           \n",
       "2                        ...                           \n",
       "3                        ...                           \n",
       "4                        ...                           \n",
       "\n",
       "                                       HC02_EST_VC85  \\\n",
       "0  Percent; Estimate; MEDIAN EARNINGS IN THE PAST...   \n",
       "1                                                (X)   \n",
       "2                                                (X)   \n",
       "3                                                (X)   \n",
       "4                                                (X)   \n",
       "\n",
       "                                       HC02_MOE_VC85  \\\n",
       "0  Percent; Margin of Error; MEDIAN EARNINGS IN T...   \n",
       "1                                                (X)   \n",
       "2                                                (X)   \n",
       "3                                                (X)   \n",
       "4                                                (X)   \n",
       "\n",
       "                                       HC03_EST_VC85  \\\n",
       "0  Males; Estimate; MEDIAN EARNINGS IN THE PAST 1...   \n",
       "1                                              56316   \n",
       "2                                              70583   \n",
       "3                                                  -   \n",
       "4                                              43984   \n",
       "\n",
       "                                       HC03_MOE_VC85  \\\n",
       "0  Males; Margin of Error; MEDIAN EARNINGS IN THE...   \n",
       "1                                              27883   \n",
       "2                                              31936   \n",
       "3                                                 **   \n",
       "4                                               6628   \n",
       "\n",
       "                                       HC04_EST_VC85  \\\n",
       "0  Percent Males; Estimate; MEDIAN EARNINGS IN TH...   \n",
       "1                                                (X)   \n",
       "2                                                (X)   \n",
       "3                                                (X)   \n",
       "4                                                (X)   \n",
       "\n",
       "                                       HC04_MOE_VC85  \\\n",
       "0  Percent Males; Margin of Error; MEDIAN EARNING...   \n",
       "1                                                (X)   \n",
       "2                                                (X)   \n",
       "3                                                (X)   \n",
       "4                                                (X)   \n",
       "\n",
       "                                       HC05_EST_VC85  \\\n",
       "0  Females; Estimate; MEDIAN EARNINGS IN THE PAST...   \n",
       "1                                              43929   \n",
       "2                                              40313   \n",
       "3                                              54025   \n",
       "4                                              33750   \n",
       "\n",
       "                                       HC05_MOE_VC85  \\\n",
       "0  Females; Margin of Error; MEDIAN EARNINGS IN T...   \n",
       "1                                              21865   \n",
       "2                                              23433   \n",
       "3                                               3330   \n",
       "4                                              24472   \n",
       "\n",
       "                                       HC06_EST_VC85  \\\n",
       "0  Percent Females; Estimate; MEDIAN EARNINGS IN ...   \n",
       "1                                                (X)   \n",
       "2                                                (X)   \n",
       "3                                                (X)   \n",
       "4                                                (X)   \n",
       "\n",
       "                                       HC06_MOE_VC85  \n",
       "0  Percent Females; Margin of Error; MEDIAN EARNI...  \n",
       "1                                                (X)  \n",
       "2                                                (X)  \n",
       "3                                                (X)  \n",
       "4                                                (X)  \n",
       "\n",
       "[5 rows x 771 columns]"
      ]
     },
     "execution_count": 23,
     "metadata": {},
     "output_type": "execute_result"
    }
   ],
   "source": [
    "#print(os.path.join(dept_acs_ed_attainment_dir, \"ACS_16_5YR_S1501_metadata.csv\"))\n",
    "dept_ed_attainment_meta_df = pd.read_csv(os.path.join(dept_acs_ed_attainment_dir, \"ACS_16_5YR_S1501_metadata.csv\"))\n",
    "#dept_ed_attainment_meta_df.head()\n",
    "dept_ed_attainment_df = pd.read_csv(os.path.join(dept_acs_ed_attainment_dir, \"ACS_16_5YR_S1501_with_ann.csv\"))\n",
    "dept_ed_attainment_df.head()"
   ]
  },
  {
   "cell_type": "code",
   "execution_count": 24,
   "metadata": {},
   "outputs": [
    {
     "data": {
      "text/plain": [
       "['SPD_BEATS_WGS84.CPG',\n",
       " 'SPD_BEATS_WGS84.dbf',\n",
       " 'SPD_BEATS_WGS84.prj',\n",
       " 'SPD_BEATS_WGS84.sbn',\n",
       " 'SPD_BEATS_WGS84.sbx',\n",
       " 'SPD_BEATS_WGS84.shp',\n",
       " 'SPD_BEATS_WGS84.shp.xml',\n",
       " 'SPD_BEATS_WGS84.shx']"
      ]
     },
     "execution_count": 24,
     "metadata": {},
     "output_type": "execute_result"
    }
   ],
   "source": [
    "## Shapefile\n",
    "os.listdir(dept_shp_dir)"
   ]
  },
  {
   "cell_type": "code",
   "execution_count": 25,
   "metadata": {},
   "outputs": [],
   "source": [
    "import geopandas as gp \n",
    "import matplotlib\n",
    "import descartes"
   ]
  },
  {
   "cell_type": "code",
   "execution_count": 26,
   "metadata": {},
   "outputs": [
    {
     "ename": "OSError",
     "evalue": "no such file or directory: '/Users/greg.bolla/Desktop/git-projects/kaggle-center-for-policing-equity/data/raw/Dept_49-00009/49-00009_Shapefiles/boston_police_districts_f55.shp'",
     "output_type": "error",
     "traceback": [
      "\u001b[0;31m---------------------------------------------------------------------------\u001b[0m",
      "\u001b[0;31mOSError\u001b[0m                                   Traceback (most recent call last)",
      "\u001b[0;32m<ipython-input-26-a2c14c285baa>\u001b[0m in \u001b[0;36m<module>\u001b[0;34m\u001b[0m\n\u001b[0;32m----> 1\u001b[0;31m \u001b[0mgeo_df\u001b[0m \u001b[0;34m=\u001b[0m \u001b[0mgp\u001b[0m\u001b[0;34m.\u001b[0m\u001b[0mread_file\u001b[0m\u001b[0;34m(\u001b[0m\u001b[0mos\u001b[0m\u001b[0;34m.\u001b[0m\u001b[0mpath\u001b[0m\u001b[0;34m.\u001b[0m\u001b[0mjoin\u001b[0m\u001b[0;34m(\u001b[0m\u001b[0mdept_shp_dir\u001b[0m\u001b[0;34m,\u001b[0m \u001b[0;34m\"boston_police_districts_f55.shp\"\u001b[0m\u001b[0;34m)\u001b[0m\u001b[0;34m)\u001b[0m\u001b[0;34m\u001b[0m\u001b[0m\n\u001b[0m\u001b[1;32m      2\u001b[0m \u001b[0mgeo_df\u001b[0m\u001b[0;34m.\u001b[0m\u001b[0mhead\u001b[0m\u001b[0;34m(\u001b[0m\u001b[0;34m)\u001b[0m\u001b[0;34m\u001b[0m\u001b[0m\n",
      "\u001b[0;32m~/.local/share/virtualenvs/kaggle-center-for-policing-equity-ciq3J3nK/lib/python3.6/site-packages/geopandas/io/file.py\u001b[0m in \u001b[0;36mread_file\u001b[0;34m(filename, bbox, **kwargs)\u001b[0m\n\u001b[1;32m     63\u001b[0m         \u001b[0mreader\u001b[0m \u001b[0;34m=\u001b[0m \u001b[0mfiona\u001b[0m\u001b[0;34m.\u001b[0m\u001b[0mopen\u001b[0m\u001b[0;34m\u001b[0m\u001b[0m\n\u001b[1;32m     64\u001b[0m \u001b[0;34m\u001b[0m\u001b[0m\n\u001b[0;32m---> 65\u001b[0;31m     \u001b[0;32mwith\u001b[0m \u001b[0mreader\u001b[0m\u001b[0;34m(\u001b[0m\u001b[0mpath_or_bytes\u001b[0m\u001b[0;34m,\u001b[0m \u001b[0;34m**\u001b[0m\u001b[0mkwargs\u001b[0m\u001b[0;34m)\u001b[0m \u001b[0;32mas\u001b[0m \u001b[0mfeatures\u001b[0m\u001b[0;34m:\u001b[0m\u001b[0;34m\u001b[0m\u001b[0m\n\u001b[0m\u001b[1;32m     66\u001b[0m         \u001b[0mcrs\u001b[0m \u001b[0;34m=\u001b[0m \u001b[0mfeatures\u001b[0m\u001b[0;34m.\u001b[0m\u001b[0mcrs\u001b[0m\u001b[0;34m\u001b[0m\u001b[0m\n\u001b[1;32m     67\u001b[0m         \u001b[0;32mif\u001b[0m \u001b[0mbbox\u001b[0m \u001b[0;32mis\u001b[0m \u001b[0;32mnot\u001b[0m \u001b[0;32mNone\u001b[0m\u001b[0;34m:\u001b[0m\u001b[0;34m\u001b[0m\u001b[0m\n",
      "\u001b[0;32m~/.local/share/virtualenvs/kaggle-center-for-policing-equity-ciq3J3nK/lib/python3.6/site-packages/fiona/__init__.py\u001b[0m in \u001b[0;36mopen\u001b[0;34m(path, mode, driver, schema, crs, encoding, layer, vfs, enabled_drivers, crs_wkt)\u001b[0m\n\u001b[1;32m    160\u001b[0m                 \u001b[0;32mraise\u001b[0m \u001b[0mIOError\u001b[0m\u001b[0;34m(\u001b[0m\u001b[0;34m\"no such archive file: %r\"\u001b[0m \u001b[0;34m%\u001b[0m \u001b[0marchive\u001b[0m\u001b[0;34m)\u001b[0m\u001b[0;34m\u001b[0m\u001b[0m\n\u001b[1;32m    161\u001b[0m         \u001b[0;32melif\u001b[0m \u001b[0mpath\u001b[0m \u001b[0;34m!=\u001b[0m \u001b[0;34m'-'\u001b[0m \u001b[0;32mand\u001b[0m \u001b[0;32mnot\u001b[0m \u001b[0mos\u001b[0m\u001b[0;34m.\u001b[0m\u001b[0mpath\u001b[0m\u001b[0;34m.\u001b[0m\u001b[0mexists\u001b[0m\u001b[0;34m(\u001b[0m\u001b[0mpath\u001b[0m\u001b[0;34m)\u001b[0m\u001b[0;34m:\u001b[0m\u001b[0;34m\u001b[0m\u001b[0m\n\u001b[0;32m--> 162\u001b[0;31m             \u001b[0;32mraise\u001b[0m \u001b[0mIOError\u001b[0m\u001b[0;34m(\u001b[0m\u001b[0;34m\"no such file or directory: %r\"\u001b[0m \u001b[0;34m%\u001b[0m \u001b[0mpath\u001b[0m\u001b[0;34m)\u001b[0m\u001b[0;34m\u001b[0m\u001b[0m\n\u001b[0m\u001b[1;32m    163\u001b[0m         c = Collection(path, mode, driver=driver, encoding=encoding,\n\u001b[1;32m    164\u001b[0m                        \u001b[0mlayer\u001b[0m\u001b[0;34m=\u001b[0m\u001b[0mlayer\u001b[0m\u001b[0;34m,\u001b[0m \u001b[0mvsi\u001b[0m\u001b[0;34m=\u001b[0m\u001b[0mvsi\u001b[0m\u001b[0;34m,\u001b[0m \u001b[0marchive\u001b[0m\u001b[0;34m=\u001b[0m\u001b[0marchive\u001b[0m\u001b[0;34m,\u001b[0m\u001b[0;34m\u001b[0m\u001b[0m\n",
      "\u001b[0;31mOSError\u001b[0m: no such file or directory: '/Users/greg.bolla/Desktop/git-projects/kaggle-center-for-policing-equity/data/raw/Dept_49-00009/49-00009_Shapefiles/boston_police_districts_f55.shp'"
     ]
    }
   ],
   "source": [
    "geo_df = gp.read_file(os.path.join(dept_shp_dir, \"SPD_BEATS_WGS84.shp\"))\n",
    "geo_df.head()"
   ]
  },
  {
   "cell_type": "code",
   "execution_count": 19,
   "metadata": {},
   "outputs": [
    {
     "data": {
      "text/plain": [
       "<matplotlib.axes._subplots.AxesSubplot at 0x114df0f60>"
      ]
     },
     "execution_count": 19,
     "metadata": {},
     "output_type": "execute_result"
    },
    {
     "data": {
      "image/png": "[encoded data removed]",
      "text/plain": [
       "<Figure size 432x288 with 1 Axes>"
      ]
     },
     "metadata": {
      "needs_background": "light"
     },
     "output_type": "display_data"
    }
   ],
   "source": [
    "geo_df.plot(column=\"DISTRICT\", edgecolor='white')"
   ]
  },
  {
   "cell_type": "code",
   "execution_count": 16,
   "metadata": {},
   "outputs": [
    {
     "data": {
      "text/plain": [
       "{'init': 'epsg:2249'}"
      ]
     },
     "execution_count": 16,
     "metadata": {},
     "output_type": "execute_result"
    }
   ],
   "source": [
    "geo_df.crs"
   ]
  },
  {
   "cell_type": "code",
   "execution_count": null,
   "metadata": {},
   "outputs": [],
   "source": []
  }
 ],
 "metadata": {
  "kernelspec": {
   "display_name": "Python 3",
   "language": "python",
   "name": "python3"
  },
  "language_info": {
   "codemirror_mode": {
    "name": "ipython",
    "version": 3
   },
   "file_extension": ".py",
   "mimetype": "text/x-python",
   "name": "python",
   "nbconvert_exporter": "python",
   "pygments_lexer": "ipython3",
   "version": "3.6.5"
  }
 },
 "nbformat": 4,
 "nbformat_minor": 2
}
