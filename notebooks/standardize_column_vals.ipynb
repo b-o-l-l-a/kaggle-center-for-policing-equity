{
 "cells": [
  {
   "cell_type": "code",
   "execution_count": 2,
   "metadata": {},
   "outputs": [
    {
     "name": "stderr",
     "output_type": "stream",
     "text": [
      "/Users/greg.bolla/.local/share/virtualenvs/kaggle-center-for-policing-equity-ciq3J3nK/lib/python3.6/site-packages/IPython/core/interactiveshell.py:3020: DtypeWarning: Columns (3,4,5,7,8,9,10,15,16,17,18,19,20,21,22,23,24,25,26,27,28,29,30,31,32,33,35,36,37,38,39,40,41) have mixed types. Specify dtype option on import or set low_memory=False.\n",
      "  interactivity=interactivity, compiler=compiler, result=result)\n"
     ]
    }
   ],
   "source": [
    "import os\n",
    "import pandas as pd\n",
    "data_dir = os.getcwd().replace(\"/notebooks\", \"/data/interim\")\n",
    "interim_csv_name = \"step1_combined_police_data.csv\"\n",
    "interim_csv_path = os.path.join(data_dir, interim_csv_name)\n",
    "\n",
    "interim_df = pd.read_csv(interim_csv_path)"
   ]
  },
  {
   "cell_type": "code",
   "execution_count": 6,
   "metadata": {},
   "outputs": [
    {
     "data": {
      "text/plain": [
       "Index(['dept', 'city', 'state', 'address_or_intersection', 'charge_code',\n",
       "       'cross_street', 'date', 'encounter_type', 'incident_id',\n",
       "       'incident_reason', 'incident_reason_detailed', 'latitude', 'longitude',\n",
       "       'number_of_suspects', 'number_officers_involved', 'officer_age',\n",
       "       'officer_death', 'officer_ethnicity', 'officer_gender', 'officer_id',\n",
       "       'officer_injured', 'officer_injuries_detail', 'officer_race',\n",
       "       'officer_yrs_experience', 'reason_for_force',\n",
       "       'reason_for_force_detailed', 'search_conducted',\n",
       "       'search_conducted_person', 'search_conducted_vehicle', 'search_reason',\n",
       "       'subject_age', 'subject_death', 'subject_description', 'subject_gender',\n",
       "       'subject_id', 'subject_injured', 'subject_injuries_detail',\n",
       "       'subject_priors', 'subject_race', 'subject_weapon_possessed',\n",
       "       'type_of_force_used', 'weapon_or_tool_used'],\n",
       "      dtype='object')"
      ]
     },
     "execution_count": 6,
     "metadata": {},
     "output_type": "execute_result"
    }
   ],
   "source": [
    "interim_df.columns"
   ]
  },
  {
   "cell_type": "code",
   "execution_count": null,
   "metadata": {},
   "outputs": [],
   "source": []
  }
 ],
 "metadata": {
  "kernelspec": {
   "display_name": "Python 3",
   "language": "python",
   "name": "python3"
  },
  "language_info": {
   "codemirror_mode": {
    "name": "ipython",
    "version": 3
   },
   "file_extension": ".py",
   "mimetype": "text/x-python",
   "name": "python",
   "nbconvert_exporter": "python",
   "pygments_lexer": "ipython3",
   "version": "3.6.5"
  }
 },
 "nbformat": 4,
 "nbformat_minor": 2
}
