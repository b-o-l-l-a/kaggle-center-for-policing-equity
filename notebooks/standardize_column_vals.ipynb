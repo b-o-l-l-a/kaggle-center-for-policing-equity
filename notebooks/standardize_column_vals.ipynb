{
 "cells": [
  {
   "cell_type": "code",
   "execution_count": 108,
   "metadata": {},
   "outputs": [],
   "source": [
    "import os\n",
    "import pandas as pd\n",
    "import numpy as np\n",
    "import math"
   ]
  },
  {
   "cell_type": "code",
   "execution_count": 109,
   "metadata": {},
   "outputs": [
    {
     "name": "stderr",
     "output_type": "stream",
     "text": [
      "/Users/greg.bolla/.local/share/virtualenvs/kaggle-center-for-policing-equity-ciq3J3nK/lib/python3.6/site-packages/IPython/core/interactiveshell.py:3020: DtypeWarning: Columns (3,4,5,7,8,9,14,15,16,17,18,19,20,21,22,23,24,25,26,27,28,29,30,31,32,34,35,36,37,38,39,40,41,42) have mixed types. Specify dtype option on import or set low_memory=False.\n",
      "  interactivity=interactivity, compiler=compiler, result=result)\n"
     ]
    }
   ],
   "source": [
    "data_dir = os.getcwd().replace(\"/notebooks\", \"/data/interim\")\n",
    "interim_csv_name = \"step1_combined_police_data.csv\"\n",
    "interim_csv_path = os.path.join(data_dir, interim_csv_name)\n",
    "\n",
    "interim_df = pd.read_csv(interim_csv_path)"
   ]
  },
  {
   "cell_type": "code",
   "execution_count": 110,
   "metadata": {},
   "outputs": [
    {
     "data": {
      "text/plain": [
       "Index(['dept', 'city', 'state', 'address_or_intersection', 'charge_code',\n",
       "       'cross_street', 'date', 'encounter_type', 'incident_id',\n",
       "       'incident_reason', 'latitude', 'longitude', 'number_of_suspects',\n",
       "       'number_officers_involved', 'officer_age', 'officer_death',\n",
       "       'officer_ethnicity', 'officer_gender', 'officer_id', 'officer_injured',\n",
       "       'officer_injuries_detail', 'officer_race', 'officer_yrs_experience',\n",
       "       'reason_for_force', 'reason_for_force_detailed', 'search_conducted',\n",
       "       'search_conducted_person', 'search_conducted_vehicle', 'search_reason',\n",
       "       'subject_age', 'subject_death', 'subject_description', 'subject_gender',\n",
       "       'subject_id', 'subject_injured', 'subject_injuries_detail',\n",
       "       'subject_priors', 'subject_race', 'subject_weapon_possessed',\n",
       "       'suspected_crime_type', 'suspected_crime_type_detailed',\n",
       "       'type_of_force_used', 'weapon_or_tool_used'],\n",
       "      dtype='object')"
      ]
     },
     "execution_count": 110,
     "metadata": {},
     "output_type": "execute_result"
    }
   ],
   "source": [
    "interim_df.columns"
   ]
  },
  {
   "cell_type": "code",
   "execution_count": 158,
   "metadata": {
    "scrolled": true
   },
   "outputs": [
    {
     "data": {
      "text/plain": [
       "-1.0        8641\n",
       "0.0         8502\n",
       "FALSE       6316\n",
       "TRUE        3745\n",
       "0            602\n",
       "-1           397\n",
       "Yes           43\n",
       "No             8\n",
       "Yes, Yes       2\n",
       "No, No         1\n",
       "Name: subject_injured, dtype: int64"
      ]
     },
     "execution_count": 158,
     "metadata": {},
     "output_type": "execute_result"
    }
   ],
   "source": [
    "interim_df[\"subject_injured\"].value_counts()"
   ]
  },
  {
   "cell_type": "code",
   "execution_count": 144,
   "metadata": {},
   "outputs": [],
   "source": [
    "def standardize_categorical_column(df, col_name):\n",
    "    \n",
    "    col_val_dict = {\n",
    "        \"reason_for_force\" : {\n",
    "            \"Tensed\" : [\"Tensed\", \"TENSED\", \"tensed\"],\n",
    "            \"Necessary to effect arrest/detention\" : [\"NECESSARY TO EFFECT ARREST / DETENTION\", \"Barricaded Person\", \"Arrest\", \"Detention/Frisk\"],\n",
    "            \"Commission of Crime\" : [\"Commission of Crime\", \"COMMISSION OF CRIME\", \"Property Destruction\", \"commission of crime\"],\n",
    "            \"Commission of Crime - Assault of Officer\" : [\"Assaulted Officer\", \"Assaulting Officer(s)\"],\n",
    "            \"Commission of Crime - Assault of Police Animal\" : [\"Assaulting Police Horse\", \"Assaulting Police K9\"],\n",
    "            \"Commission of Crime - Assault of Person(s)\" : [\"Assaulting Citizen(s)\", \"Assault to Other Person\"],\n",
    "            \"Fleeing\" : [\"Fled on Foot\", \"Fleeing\"],\n",
    "            \"Fleeing in Vehicle / Vehicle Pursuit\" : [\"NECESSARY TO IMMOBILIZE A VEHICLE PURSUIT (PIT)\", \"Fled in Vehicle\"],\n",
    "            \"Non-compliance\" : [\"Verbal Non-Compliance\", \"Non-Compliant\", \"verbal non-compliance\"],\n",
    "            \"Aggressive/Combative Suspect\" : [\"Active Aggression\", \"Combative Suspect\"],\n",
    "            \"Restraint\" : [\"TO RESTRAIN FOR SUBJECTS SAFETY\", \"NECESSARY TO DEFEND ANOTHER\", \"IN CUSTODY, MAINTAINING CONTROL\"],\n",
    "            \"Self-Defense or Defense of Citizen\" : [\"NECESSARY TO DEFEND REPORTING OFFICER\", \"Danger to self or others\"],\n",
    "            \"Weapon Display / Prevent Violence\" : [\"Weapon Display\", \"TO PREVENT A VIOLENT FELONY\"],\n",
    "            \"Other\" : [\"Aggressive Animal\", \"OTHER (DOCUMENT IN SUPPLEMENT)\", \"Other\", \"Crowd Disbursement\", \"Unspecified\"]\n",
    "        },\n",
    "        \"officer_race\" : {\n",
    "            \"Black\" : [\"B(Black)\", \"Black\", \"B\"],\n",
    "            \"White\" :[\"W(White)\", \"White\", \"W\",\"W, W\", \"W, W, W\", \"W, W, W, W, W\", \"W,W\"],\n",
    "            \"Hispanic\" : [\"H(Hispanic)\", \"Hispanic\"],\n",
    "            \"Asian\" : [\"A(Asian or Pacific Islander)\", \"Asian\"],\n",
    "            \"Middle Eastern\" : [\"M(Middle Eastern or East Indian)\"],\n",
    "            \"American Indian\" : [\"I(American Indian or Alaskan Native)\", \"American Ind\"],\n",
    "            \"Other\" : [\"Other\", \"O\"],\n",
    "            \"Multiple Races\" : [\"W, B\", \"W, B, W\", \"B, W, W\", \"O,W\", \"W,W, W, W, W, B, W, W, B, W, W\", \"W, O, W\", \"B, W, W, W\", \"W, B, B, W\"],\n",
    "            np.nan : [\"NO DATA ENTERED\", \"UNKNOWN\"]\n",
    "        }, \n",
    "        \"incident_reason\" : {\n",
    "            \"Crowd or Emergency Response\" : [\"ERG Incident\", \"Call for Cover\", \"Crowd Control\"],\n",
    "            \"Canine Request\" : [\"Request For PSD\"],\n",
    "            \"Viewed Incident\" : [\"Crime in Progress\", \"VIEWED OFFENSE\", \"CRIMINAL VIOLATION\"],\n",
    "            \"Traffic or Pedestrian Stop\" : [\"TRAFFIC STOP\", \"MOTOR VEHICLE VIOLATION\", \"Pedestrian Stop\", \"Traffic Stop\"],\n",
    "            \"Off Duty\" : [\"Off-Duty Incident\", \"Off-Duty Employment\"],\n",
    "            \"Response to Call\" : [\"RADIO CALL\", \"CITIZEN ASSIST\", \"Call For Service\", \"Assisting a Citizen\", \"DISPATCHED CALL\", \"Service Call\"],\n",
    "            \"Assisting other law enforcement\" : [\"SWAT Incident\", \"Assisting Other Agency\"],\n",
    "            \"Investigation\" : [\"INVESTIGATIVE\", \"Investigation\", \"Suspicious Activity\"],\n",
    "            \"Other\" : [\"OTHER (SPECIFY)\", \"Other ( In Narrative)\", \"OTHER\", \"Accidental Discharge\"],\n",
    "            \"Warrant\" : [\"Warrant Service\", \"Warrant Execution\", \"WARRANT SERVICE\", \"Search Warrant\"],\n",
    "            \"Arrest\" : [\"Arrest\", \"Self-Initiated Activity\", \"TACTICAL OPERATION\"],\n",
    "            np.nan : [\"Not Applicable\", np.nan, \"-\"]\n",
    "        },\n",
    "        # https://static1.squarespace.com/static/5086f19ce4b0ad16ff15598d/t/56a2569205caa7ee9f29e6a2/1453479570208/rule323.pdf\n",
    "        \"encounter_type\": {\n",
    "            \"Frisk\" : [\"F\"],\n",
    "            \"Frisk, Stop\" : [\"FS\"],\n",
    "            \"Intelligence\" : [\"I\"],\n",
    "            \"Intelligence, Observation\" : [\"IO\"],\n",
    "            \"Intelligence, Observation, Frisk\" : [\"IOF\"],\n",
    "            \"Intelligence, Observation, Frisk, Stop\" : [\"IOFS\"],\n",
    "            \"Observation\" : [\"O\"],\n",
    "            \"Observation, Frisk\" : [\"OF\"],\n",
    "            \"Observation, Stop\" : [\"OS\"],\n",
    "            \"Observation, Frisk, Stop\": [\"OFS\"],\n",
    "            \"Intelligence, Frisk\" : [\"IF\"],\n",
    "            \"Intelligence, Frisk, Stop\" : [\"IFS\"],\n",
    "            \"Intelligence, Stop\" : [\"IS\"],\n",
    "            \"Intelligence, Observation, Stop\" : [\"IOS\"],\n",
    "            \"Probable Cause\" : [\"P\"],\n",
    "            \"Probable Cause, Frisk\" : [\"PF\"],\n",
    "            \"Probable Cause, Intelligence\" : [\"PI\"],\n",
    "            \"Probable Cause, Observation\" : [\"PO\"],\n",
    "            \"Probable Cause, Intelligence, Frisk\" : [\"PIF\"],\n",
    "            \"Probable Cause, Intelligence, Observation\" : [\"PIO\"],\n",
    "            \"Probable Cause, Intelligence, Stop\" : [\"PIS\"],\n",
    "            \"Probable Cause, Observation, Frisk\" : [\"POF\"],\n",
    "            \"Probable Cause, Intelligence, Observation, Frisk\" : [\"PIOF\"],\n",
    "            \"Probable Cause, Intelligence, Observation, Stop\" : [\"PIOS\"],\n",
    "            \"Probable Cause, Intelligence, Observation, Frisk, Stop\" : [\"PIOFS\"],    \n",
    "            \"Stop\" : [\"S\"]\n",
    "        }\n",
    "    }\n",
    "    \n",
    "    #if col_name == \"officer_gender\":\n",
    "        \n",
    "    col_vals = col_val_dict[col_name]\n",
    "    for k, v in col_vals.items():\n",
    "        df.loc[df[col_name].isin(v), col_name] = k\n",
    "\n",
    "    return df  "
   ]
  },
  {
   "cell_type": "code",
   "execution_count": 145,
   "metadata": {},
   "outputs": [],
   "source": [
    "def standardize_numerical_column(df, col_name):\n",
    "\n",
    "    def convert_to_list(row):\n",
    "        if isinstance(row, str):\n",
    "            row_list = row.split(\",\")\n",
    "            return_val = [float(num) for num in row_list]\n",
    "        elif math.isnan(row):\n",
    "            return_val = row\n",
    "        elif isinstance(row, float) or isinstance(row, int):\n",
    "            return_val = [row]\n",
    "\n",
    "        return return_val\n",
    "        \n",
    "    def get_avg_of_list(row):\n",
    "        if isinstance(row, list):\n",
    "            return_val = np.mean(row)\n",
    "        elif math.isnan(row):\n",
    "            return_val = row\n",
    "        return return_val\n",
    "    \n",
    "    col_as_list = df[col_name].apply(convert_to_list)\n",
    "    avg_series = col_as_list.apply(get_avg_of_list)\n",
    "    \n",
    "    df[col_name] = avg_series\n",
    "    \n",
    "    return df\n",
    "\n",
    "def standardize_boolean_column(df, col_name):\n",
    "    def convert_to_list(row):\n",
    "        if isinstance(row, str):\n",
    "            row_list = row.split(\",\")\n",
    "            return_val = [word for word in row_list]\n",
    "        elif math.isnan(row):\n",
    "            return_val = row\n",
    "        elif isinstance(row, float) or isinstance(row, int):\n",
    "            return_val = [row]\n",
    "\n",
    "        return return_val\n",
    "    \n",
    "    def get_bool(row):\n",
    "        if isinstance(row, list):\n",
    "            return_val = True if 'YES' in [string.upper() for string in row] else False\n",
    "        elif math.isnan(row):\n",
    "            return_val = row\n",
    "        return return_val\n",
    "\n",
    "    col_as_list = df[col_name].apply(convert_to_list)\n",
    "    bool_series = col_as_list.apply(get_bool)\n",
    "    df[col_name] = bool_series\n",
    "    \n",
    "    return df"
   ]
  },
  {
   "cell_type": "code",
   "execution_count": 146,
   "metadata": {},
   "outputs": [
    {
     "name": "stdout",
     "output_type": "stream",
     "text": [
      "0    Black\n",
      "1    White\n",
      "2    Black\n",
      "3    Black\n",
      "4    Black\n",
      "Name: officer_race, dtype: object\n"
     ]
    }
   ],
   "source": [
    "print(interim_df[\"officer_race\"].head())"
   ]
  },
  {
   "cell_type": "code",
   "execution_count": 147,
   "metadata": {},
   "outputs": [],
   "source": [
    "# new_df = standardize_categorical_column(interim_df, \"incident_reason\")\n",
    "# new_df = standardize_categorical_column(interim_df, \"encounter_type\")\n",
    "# new_df = standardize_numerical_column(interim_df, \"officer_yrs_experience\")\n",
    "# new_df = standardize_numerical_column(interim_df, \"officer_age\")\n",
    "# new_df = standardize_boolean_column(interim_df, \"officer_death\")\n",
    "# new_df = standardize_boolean_column(interim_df, \"officer_injured\")\n",
    "new_df = standardize_categorical_column(interim_df, \"reason_for_force\")"
   ]
  },
  {
   "cell_type": "code",
   "execution_count": 148,
   "metadata": {},
   "outputs": [
    {
     "data": {
      "text/plain": [
       "array([nan, 'Fleeing', 'Aggressive/Combative Suspect', 'Resisting Arrest',\n",
       "       'Non-compliance', 'Commission of Crime - Assault of Person(s)',\n",
       "       'Commission of Crime - Assault of Officer', 'Commission of Crime',\n",
       "       'Tensed', 'Fleeing in Vehicle / Vehicle Pursuit', 'Other',\n",
       "       'Commission of Crime - Assault of Police Animal',\n",
       "       'Necessary to effect arrest/detention', 'Restraint',\n",
       "       'Self-Defense or Defense of Citizen',\n",
       "       'Weapon Display / Prevent Violence'], dtype=object)"
      ]
     },
     "execution_count": 148,
     "metadata": {},
     "output_type": "execute_result"
    }
   ],
   "source": [
    "new_df[\"reason_for_force\"].unique()"
   ]
  },
  {
   "cell_type": "code",
   "execution_count": 127,
   "metadata": {},
   "outputs": [
    {
     "data": {
      "text/plain": [
       "Black              90642\n",
       "White              44531\n",
       "Hispanic           20750\n",
       "Asian               1379\n",
       "Middle Eastern       462\n",
       "Other                139\n",
       "American Indian       77\n",
       "Multiple Races         9\n",
       "Name: officer_race, dtype: int64"
      ]
     },
     "execution_count": 127,
     "metadata": {},
     "output_type": "execute_result"
    }
   ],
   "source": [
    "new_df[\"officer_race\"].value_counts()"
   ]
  },
  {
   "cell_type": "code",
   "execution_count": null,
   "metadata": {},
   "outputs": [],
   "source": []
  }
 ],
 "metadata": {
  "kernelspec": {
   "display_name": "Python 3",
   "language": "python",
   "name": "python3"
  },
  "language_info": {
   "codemirror_mode": {
    "name": "ipython",
    "version": 3
   },
   "file_extension": ".py",
   "mimetype": "text/x-python",
   "name": "python",
   "nbconvert_exporter": "python",
   "pygments_lexer": "ipython3",
   "version": "3.6.5"
  }
 },
 "nbformat": 4,
 "nbformat_minor": 2
}
